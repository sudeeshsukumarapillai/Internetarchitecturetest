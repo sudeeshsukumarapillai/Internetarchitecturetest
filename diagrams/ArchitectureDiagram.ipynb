{
 "cells": [
  {
   "cell_type": "code",
   "execution_count": 4,
   "metadata": {},
   "outputs": [],
   "source": [
    "import os\n",
    "from IPython.display import Image\n",
    "from diagrams import Diagram, Cluster\n",
    "from diagrams.k8s.compute import Pod, Deployment\n",
    "from diagrams.k8s.network import Ingress, Service\n",
    "from diagrams.k8s.storage import PersistentVolumeClaim\n",
    "from diagrams.onprem.database import MySQL\n",
    "from diagrams.onprem.auth import Oauth2Proxy as Keycloak\n",
    "from diagrams.onprem.network import Traefik\n",
    "from diagrams.programming.framework import Spring as SpringBoot, React as Nextjs\n",
    "\n",
    "with Diagram(\"Note Nirvana Architecture\", show=True, filename=\"arch_notenirvana\", outformat=\"svg\"):\n",
    "    with Cluster(\"Kubernetes Cluster\"):\n",
    "        traefik = Traefik(\"Traefik\")\n",
    "        ingress = Ingress(\"Ingress\")\n",
    "        traefik >> ingress\n",
    "\n",
    "        with Cluster(\"notenirvana-front\"):\n",
    "            notenirvana_front = Deployment(\"notenirvana-front\")\n",
    "            next_js = Nextjs(\"next-js\")\n",
    "            notenirvana_front << next_js\n",
    "\n",
    "        with Cluster(\"notenirvana-service\"):\n",
    "            notenirvana_service = Deployment(\"notenirvana-service\")\n",
    "            spring_boot = SpringBoot(\"spring-boot\")\n",
    "            notenirvana_service << spring_boot\n",
    "\n",
    "        with Cluster(\"MySQL Database\"):\n",
    "            mysql = MySQL(\"mysql\")\n",
    "            pvc = PersistentVolumeClaim(\"PVC\")\n",
    "            mysql << pvc\n",
    "\n",
    "        with Cluster(\"Keycloak\"):\n",
    "            keycloak = Keycloak(\"keycloak\")\n",
    "\n",
    "        ingress >> Service(\"https://notenirvana.ooguy.com\") >> notenirvana_front\n",
    "        ingress >> Service(\"https://nirvana.ooguy.com\") >> notenirvana_service\n",
    "        ingress >> Service(\"https://keycloak.ooguy.com\") >> keycloak\n",
    "\n",
    "        notenirvana_front >> keycloak >> notenirvana_service >> mysql"
   ]
  }
 ],
 "metadata": {
  "kernelspec": {
   "display_name": "Python 3 (ipykernel)",
   "language": "python",
   "name": "python3"
  },
  "language_info": {
   "codemirror_mode": {
    "name": "ipython",
    "version": 3
   },
   "file_extension": ".py",
   "mimetype": "text/x-python",
   "name": "python",
   "nbconvert_exporter": "python",
   "pygments_lexer": "ipython3",
   "version": "3.9.6"
  }
 },
 "nbformat": 4,
 "nbformat_minor": 1
}
